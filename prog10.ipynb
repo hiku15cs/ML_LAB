{
 "cells": [
  {
   "cell_type": "code",
   "execution_count": 5,
   "metadata": {},
   "outputs": [],
   "source": [
    "import numpy as np\n",
    "import matplotlib.pyplot as plt"
   ]
  },
  {
   "cell_type": "code",
   "execution_count": 6,
   "metadata": {},
   "outputs": [
    {
     "data": {
      "text/plain": [
       "array([ 3. ,  4. ,  5. ,  6. ,  7. ,  8. ,  9. , 10. , 11. , 12. , 13. ,\n",
       "       14. , 15. , 16. , 17. , 18. , 19. , 20. , 21. , 22. , 23. , 24. ,\n",
       "       25. , 26. , 27. , 28. , 29. , 30. , 31. , 32. ,  3.2,  4.2])"
      ]
     },
     "execution_count": 6,
     "metadata": {},
     "output_type": "execute_result"
    }
   ],
   "source": [
    "tou = 0.5\n",
    "X_train = np.array(list(range(3,33)) + [3.2,4.2])\n",
    "X_train"
   ]
  },
  {
   "cell_type": "code",
   "execution_count": 7,
   "metadata": {},
   "outputs": [
    {
     "data": {
      "text/plain": [
       "array([[ 3. ],\n",
       "       [ 4. ],\n",
       "       [ 5. ],\n",
       "       [ 6. ],\n",
       "       [ 7. ],\n",
       "       [ 8. ],\n",
       "       [ 9. ],\n",
       "       [10. ],\n",
       "       [11. ],\n",
       "       [12. ],\n",
       "       [13. ],\n",
       "       [14. ],\n",
       "       [15. ],\n",
       "       [16. ],\n",
       "       [17. ],\n",
       "       [18. ],\n",
       "       [19. ],\n",
       "       [20. ],\n",
       "       [21. ],\n",
       "       [22. ],\n",
       "       [23. ],\n",
       "       [24. ],\n",
       "       [25. ],\n",
       "       [26. ],\n",
       "       [27. ],\n",
       "       [28. ],\n",
       "       [29. ],\n",
       "       [30. ],\n",
       "       [31. ],\n",
       "       [32. ],\n",
       "       [ 3.2],\n",
       "       [ 4.2]])"
      ]
     },
     "execution_count": 7,
     "metadata": {},
     "output_type": "execute_result"
    }
   ],
   "source": [
    "X_train = X_train[:,np.newaxis]\n",
    "X_train"
   ]
  },
  {
   "cell_type": "code",
   "execution_count": 8,
   "metadata": {},
   "outputs": [],
   "source": [
    "y_train = np.array([1,2,1,2,1,1,3,4,5,4,5,6,5,6,7,8,9,10,11,11,12,11,11,12,13,16,17,19,18,34,21,22])\n",
    "X_test = np.array([i/10. for i in range(400)])\n",
    "\n",
    "X_test = X_test[:,np.newaxis]\n",
    "y_test = []"
   ]
  },
  {
   "cell_type": "code",
   "execution_count": 9,
   "metadata": {},
   "outputs": [
    {
     "data": {
      "image/png": "[encoded data removed]",
      "text/plain": [
       "<Figure size 432x288 with 1 Axes>"
      ]
     },
     "metadata": {},
     "output_type": "display_data"
    },
    {
     "data": {
      "text/plain": [
       "array([ 0.        ,  0.19221792,  0.39394852,  0.60544658,  0.82695489,\n",
       "        1.05870124,  1.3008949 ,  1.55372235,  1.81734215,  2.09187872,\n",
       "        2.3774148 ,  2.6739823 ,  2.98155119,  3.30001606,  3.62918   ,\n",
       "        3.96873537,  4.31824112,  4.67709645,  5.04451093,  5.41947137,\n",
       "        5.80070667,  6.1866524 ,  6.57541826,  6.96476259,  7.35207962,\n",
       "        7.73440585,  8.10845189,  8.47066458,  8.81731979,  9.14463972,\n",
       "        9.4489198 ,  9.72664146,  9.97454155, 10.189611  , 10.36900648,\n",
       "       10.50987917, 10.60915009, 10.66328405, 10.66812763, 10.61887702,\n",
       "       10.5102286 , 10.33674346, 10.09342961,  9.77651511,  9.38435174,\n",
       "        8.91835091,  8.38381349,  7.79048041,  7.15261589,  6.48846229,\n",
       "        5.81899368,  5.1660468 ,  4.55009205,  3.9880577 ,  3.49166262,\n",
       "        3.066604  ,  2.71271854,  2.42497852,  2.19500099,  2.0126945 ,\n",
       "        1.86773153,  1.75065935,  1.65358908,  1.57049539,  1.49720964,\n",
       "        1.43120632,  1.3712786 ,  1.31718264,  1.26930962,  1.22842058,\n",
       "        1.19545753,  1.17142618,  1.15733384,  1.154161  ,  1.16284518,\n",
       "        1.18425994,  1.21917783,  1.26821271,  1.33174354,  1.4098279 ,\n",
       "        1.50211878,  1.60780238,  1.72557512,  1.85367464,  1.98997006,\n",
       "        2.13210433,  2.2776686 ,  2.42438001,  2.57023345,  2.71360529,\n",
       "        2.85329905,  2.98853648,  3.1189067 ,  3.24429074,  3.36477716,\n",
       "        3.48057982,  3.59196292,  3.69917347,  3.80237925,  3.90161096,\n",
       "        3.99671029,  4.08728941,  4.17271016,  4.25209207,  4.324356  ,\n",
       "        4.38830533,  4.44274075,  4.48659865,  4.51909921,  4.53988793,\n",
       "        4.54915398,  4.5477089 ,  4.53701157,  4.51912882,  4.49662867,\n",
       "        4.47241328,  4.44950969,  4.43084449,  4.41903206,  4.41620142,\n",
       "        4.42387907,  4.44293452,  4.47358654,  4.51546159,  4.56769137,\n",
       "        4.62903358,  4.69799796,  4.77296004,  4.85224774,  4.93419276,\n",
       "        5.01714693,  5.0994726 ,  5.17952278,  5.255629  ,  5.32611251,\n",
       "        5.38932885,  5.44374695,  5.48805667,  5.52129192,  5.54295368,\n",
       "        5.55311544,  5.55249427,  5.54247226,  5.52505694,  5.50277646,\n",
       "        5.4785148 ,  5.45530377,  5.43609714,  5.42355605,  5.41987194,\n",
       "        5.42664539,  5.44482907,  5.47473401,  5.51609133,  5.56815738,\n",
       "        5.62984671,  5.69987533,  5.77689634,  5.85961207,  5.94685199,\n",
       "        6.03761303,  6.13106658,  6.22654226,  6.32350103,  6.4215089 ,\n",
       "        6.52021846,  6.61935964,  6.71873677,  6.8182259 ,  6.91776734,\n",
       "        7.01735052,  7.11699269,  7.21671586,  7.31652808,  7.4164141 ,\n",
       "        7.51633746,  7.61625222,  7.71611905,  7.81591931,  7.91566139,\n",
       "        8.01537693,  8.11510848,  8.21489314,  8.3147485 ,  8.41466603,\n",
       "        8.51461443,  8.61455139,  8.71443917,  8.81425793,  8.91401138,\n",
       "        9.01372248,  9.11342019,  9.21312162,  9.3128151 ,  9.41244899,\n",
       "        9.51192829,  9.61111766,  9.70984662,  9.80791148,  9.90506988,\n",
       "       10.00102724, 10.09541813, 10.18778955, 10.2775943 , 10.36420188,\n",
       "       10.44693081, 10.52510161, 10.59810484, 10.66547554, 10.72696359,\n",
       "       10.78259048, 10.83268403, 10.87788483, 10.91912025, 10.95754482,\n",
       "       10.99444974, 11.03114845, 11.06884923, 11.10852817, 11.15081586,\n",
       "       11.19590971, 11.24352087, 11.29286208, 11.34268031, 11.39133427,\n",
       "       11.43691356, 11.47739073, 11.51079348, 11.53538082, 11.54980622,\n",
       "       11.55325183, 11.54551961, 11.52706867, 11.49899168, 11.4629299 ,\n",
       "       11.42093459, 11.37529254, 11.32834102, 11.28229992, 11.23914458,\n",
       "       11.20053269, 11.16778557, 11.14191318, 11.12366527, 11.11358986,\n",
       "       11.11208372, 11.11942572, 11.1357905 , 11.16124535, 11.19573686,\n",
       "       11.23907484, 11.29092167, 11.35079359, 11.41807939, 11.49207843,\n",
       "       11.57205716, 11.65731855, 11.747276  , 11.84152148, 11.9398787 ,\n",
       "       12.04243508, 12.14955011, 12.26184083, 12.38014727, 12.50547998,\n",
       "       12.6389511 , 12.78168849, 12.93473216, 13.09891417, 13.27472716,\n",
       "       13.46219331, 13.66075248, 13.86919319, 14.08565003, 14.30768362,\n",
       "       14.53244474, 14.75690595, 14.97812744, 15.19351518, 15.40103185,\n",
       "       15.59933284, 15.78781668, 15.96659491, 16.13639708, 16.29843067,\n",
       "       16.45421461, 16.60540181, 16.75360206, 16.90021463, 17.04627975,\n",
       "       17.19235999, 17.33846592, 17.48404301, 17.62803722, 17.76905264,\n",
       "       17.90560502, 18.03646238, 18.16104915, 18.27987798, 18.3949645 ,\n",
       "       18.51017452, 18.63145042, 18.76686249, 18.92643579, 19.12171723,\n",
       "       19.36507282, 19.6687426 , 20.0437216 , 20.49857454, 21.03832021,\n",
       "       21.66353581, 22.36982737, 23.14778471, 23.98348423, 24.85951894,\n",
       "       25.75643799, 26.65439132, 27.53473096, 28.38133583, 29.18149886,\n",
       "       29.92631787, 30.61063127, 31.23260875, 31.79313581, 32.29512261,\n",
       "       32.74283805, 33.14133194, 33.49597441, 33.81211606, 34.09485693,\n",
       "       34.3489049 , 34.57850248, 34.78740265, 34.97887754, 35.1557475 ,\n",
       "       35.32042129, 35.4749411 , 35.62102806, 35.76012578, 35.8934404 ,\n",
       "       36.02197645, 36.14656842, 36.26790806, 36.38656782, 36.50302078,\n",
       "       36.61765741, 36.73079974, 36.84271311, 36.95361606, 37.06368843,\n",
       "       37.1730782 , 37.28190708, 37.39027512, 37.4982646 , 37.60594309,\n",
       "       37.71336616, 37.82057945, 37.92762044, 38.03451995, 38.14130326,\n",
       "       38.24799115, 38.35460069, 38.4611459 , 38.56763828, 38.67408728,\n",
       "       38.78050067, 38.88688482, 38.99324495, 39.09958537, 39.20590961,\n",
       "       39.31222056, 39.41852059, 39.52481167, 39.63109539, 39.73737308,\n",
       "       39.84364581, 39.94991447, 40.05617979, 40.16244236, 40.26870268,\n",
       "       40.37496116, 40.48121812, 40.58747383, 40.69372852, 40.79998236,\n",
       "       40.90623552, 41.01248812, 41.11874025, 41.22499199, 41.33124343,\n",
       "       41.43749461, 41.54374557, 41.64999637, 41.75624702, 41.86249755,\n",
       "       41.96874799, 42.07499835, 42.18124865, 42.28749889, 42.39374909])"
      ]
     },
     "execution_count": 9,
     "metadata": {},
     "output_type": "execute_result"
    }
   ],
   "source": [
    "count = 0\n",
    "for r in range(len(X_test)):\n",
    "    try:\n",
    "        wts = np.exp(-np.sum((X_train - X_test[r])**2,axis = 1)/(2*tou)**2)\n",
    "        W = np.diag(wts)\n",
    "        factor1 = np.linalg.inv(X_train.T.dot(W).dot(X_train))\n",
    "        parameters = factor1.dot(X_train.T).dot(W).dot(y_train)\n",
    "        prediction = X_test[r].dot(parameters)\n",
    "        y_test.append(prediction)\n",
    "        count = count + 1\n",
    "    except:\n",
    "        pass\n",
    "    \n",
    "y_test = np.array(y_test)\n",
    "plt.plot(X_train.squeeze(),y_train,'o')\n",
    "plt.plot(X_test.squeeze(),y_test,'*')\n",
    "plt.show()\n",
    "y_test"
   ]
  },
  {
   "cell_type": "code",
   "execution_count": null,
   "metadata": {},
   "outputs": [],
   "source": []
  }
 ],
 "metadata": {
  "kernelspec": {
   "display_name": "Python 3",
   "language": "python",
   "name": "python3"
  },
  "language_info": {
   "codemirror_mode": {
    "name": "ipython",
    "version": 3
   },
   "file_extension": ".py",
   "mimetype": "text/x-python",
   "name": "python",
   "nbconvert_exporter": "python",
   "pygments_lexer": "ipython3",
   "version": "3.6.5"
  }
 },
 "nbformat": 4,
 "nbformat_minor": 2
}
