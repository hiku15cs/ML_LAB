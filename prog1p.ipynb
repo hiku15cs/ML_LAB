{
 "cells": [
  {
   "cell_type": "code",
   "execution_count": 11,
   "metadata": {},
   "outputs": [],
   "source": [
    "import pandas as pd"
   ]
  },
  {
   "cell_type": "code",
   "execution_count": 12,
   "metadata": {},
   "outputs": [
    {
     "name": "stdout",
     "output_type": "stream",
     "text": [
      "        0     1       2       3     4       5  6\n",
      "0   sunny  warm  normal  strong  warm    same  1\n",
      "1   sunny  warm    high  strong  warm    same  1\n",
      "2   rainy  cold    high  strong  warm  change  0\n",
      "3   sunny  warm    high  strong  cool  change  1\n",
      "4   sunny  warm  normal  strong  cool    same  1\n",
      "5   sunny  cold  normal  strong  cool    same  1\n",
      "6   sunny  cold  normal    weak  cool  change  0\n",
      "7   rainy  cold    high  strong  cool  change  0\n",
      "8   sunny  cold    high  strong  warm  change  1\n",
      "9   sunny  warm    high  strong  warm    same  1\n",
      "10  rainy  warm  normal  strong  warm  change  0\n",
      "11  sunny  cold    high  strong  cool  change  1\n",
      "12  sunny  cold  normal  strong  cool    same  1\n",
      "13  sunny  warm  normal  strong  cool    same  1\n",
      "14  sunny  warm  normal    weak  cool  change  0\n"
     ]
    }
   ],
   "source": [
    "data=pd.read_csv(\"train1.csv\",header=None)\n",
    "print(data)"
   ]
  },
  {
   "cell_type": "code",
   "execution_count": 13,
   "metadata": {},
   "outputs": [
    {
     "name": "stdout",
     "output_type": "stream",
     "text": [
      "        0     1       2       3     4       5  6\n",
      "8   sunny  cold    high  strong  warm  change  1\n",
      "0   sunny  warm  normal  strong  warm    same  1\n",
      "2   rainy  cold    high  strong  warm  change  0\n",
      "11  sunny  cold    high  strong  cool  change  1\n",
      "9   sunny  warm    high  strong  warm    same  1\n",
      "10  rainy  warm  normal  strong  warm  change  0\n",
      "7   rainy  cold    high  strong  cool  change  0\n",
      "14  sunny  warm  normal    weak  cool  change  0\n"
     ]
    }
   ],
   "source": [
    "train=data.sample(frac=0.5,random_state=None)\n",
    "print(train)"
   ]
  },
  {
   "cell_type": "code",
   "execution_count": 14,
   "metadata": {},
   "outputs": [
    {
     "name": "stdout",
     "output_type": "stream",
     "text": [
      "        0     1       2       3     4       5  6\n",
      "1   sunny  warm    high  strong  warm    same  1\n",
      "3   sunny  warm    high  strong  cool  change  1\n",
      "4   sunny  warm  normal  strong  cool    same  1\n",
      "5   sunny  cold  normal  strong  cool    same  1\n",
      "6   sunny  cold  normal    weak  cool  change  0\n",
      "12  sunny  cold  normal  strong  cool    same  1\n",
      "13  sunny  warm  normal  strong  cool    same  1\n"
     ]
    }
   ],
   "source": [
    "test=data.drop(train.index)\n",
    "print(test)"
   ]
  },
  {
   "cell_type": "code",
   "execution_count": 15,
   "metadata": {},
   "outputs": [
    {
     "name": "stdout",
     "output_type": "stream",
     "text": [
      "0    -\n",
      "1    -\n",
      "2    -\n",
      "3    -\n",
      "4    -\n",
      "5    -\n",
      "dtype: object\n"
     ]
    }
   ],
   "source": [
    "l=len(train.columns)\n",
    "l=l-1\n",
    "h=pd.Series(['-']*l)\n",
    "print(h)"
   ]
  },
  {
   "cell_type": "code",
   "execution_count": 16,
   "metadata": {},
   "outputs": [
    {
     "name": "stdout",
     "output_type": "stream",
     "text": [
      "['sunny', 'cold', 'high', 'strong', 'warm', 'change', 1]\n",
      "['sunny', 'warm', 'normal', 'strong', 'warm', 'same', 1]\n",
      "['rainy', 'cold', 'high', 'strong', 'warm', 'change', 0]\n",
      "['sunny', 'cold', 'high', 'strong', 'cool', 'change', 1]\n",
      "['sunny', 'warm', 'high', 'strong', 'warm', 'same', 1]\n",
      "['rainy', 'warm', 'normal', 'strong', 'warm', 'change', 0]\n",
      "['rainy', 'cold', 'high', 'strong', 'cool', 'change', 0]\n",
      "['sunny', 'warm', 'normal', 'weak', 'cool', 'change', 0]\n",
      "['sunny', '?', '?', 'strong', '?', '?']\n"
     ]
    }
   ],
   "source": [
    "for (i,r) in train.iterrows():\n",
    "    print(list(r))\n",
    "    if r.iloc[-1]==1:\n",
    "        for j in range(l):\n",
    "            if h.iloc[j]==r.iloc[j]:\n",
    "                continue\n",
    "            else:\n",
    "                if h.iloc[j]=='-':\n",
    "                    h.iloc[j]=r.iloc[j]\n",
    "                else:\n",
    "                    h.iloc[j]='?'\n",
    "print(list(h))"
   ]
  },
  {
   "cell_type": "code",
   "execution_count": 17,
   "metadata": {},
   "outputs": [],
   "source": [
    "def testh(h,sample):\n",
    "    index=h!='?'\n",
    "    if (h[index]==sample[index]).all():\n",
    "        return 1\n",
    "    else:\n",
    "        return 0"
   ]
  },
  {
   "cell_type": "code",
   "execution_count": 18,
   "metadata": {},
   "outputs": [
    {
     "name": "stdout",
     "output_type": "stream",
     "text": [
      "\n",
      " Test: ['sunny', 'warm', 'high', 'strong', 'warm', 'same', 1]\n",
      "\n",
      "predected: 1 \t Actual: 1\n",
      "\n",
      " Test: ['sunny', 'warm', 'high', 'strong', 'cool', 'change', 1]\n",
      "\n",
      "predected: 1 \t Actual: 1\n",
      "\n",
      " Test: ['sunny', 'warm', 'normal', 'strong', 'cool', 'same', 1]\n",
      "\n",
      "predected: 1 \t Actual: 1\n",
      "\n",
      " Test: ['sunny', 'cold', 'normal', 'strong', 'cool', 'same', 1]\n",
      "\n",
      "predected: 1 \t Actual: 1\n",
      "\n",
      " Test: ['sunny', 'cold', 'normal', 'weak', 'cool', 'change', 0]\n",
      "\n",
      "predected: 0 \t Actual: 0\n",
      "\n",
      " Test: ['sunny', 'cold', 'normal', 'strong', 'cool', 'same', 1]\n",
      "\n",
      "predected: 1 \t Actual: 1\n",
      "\n",
      " Test: ['sunny', 'warm', 'normal', 'strong', 'cool', 'same', 1]\n",
      "\n",
      "predected: 1 \t Actual: 1\n",
      "Accuracy: 100.0 %\n"
     ]
    }
   ],
   "source": [
    "def ac(testset):\n",
    "    a=0\n",
    "    for (i,r) in testset.iterrows():\n",
    "        t=testh(h,r.iloc[:-1])\n",
    "        if t==r.iloc[-1]:\n",
    "            a=a+1\n",
    "        print(\"\\n Test:\",list(r))\n",
    "        print(\"\\npredected:\",t,\"\\t Actual:\",r.iloc[-1])\n",
    "        \n",
    "    return (a/len(testset))*100\n",
    "\n",
    "print (\"Accuracy:\",ac(test),\"%\")\n",
    "\n",
    "        \n",
    "        "
   ]
  }
 ],
 "metadata": {
  "kernelspec": {
   "display_name": "Python 3",
   "language": "python",
   "name": "python3"
  },
  "language_info": {
   "codemirror_mode": {
    "name": "ipython",
    "version": 3
   },
   "file_extension": ".py",
   "mimetype": "text/x-python",
   "name": "python",
   "nbconvert_exporter": "python",
   "pygments_lexer": "ipython3",
   "version": "3.6.5"
  }
 },
 "nbformat": 4,
 "nbformat_minor": 2
}
