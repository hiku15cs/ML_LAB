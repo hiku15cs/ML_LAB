{
 "cells": [
  {
   "cell_type": "code",
   "execution_count": 1,
   "metadata": {},
   "outputs": [],
   "source": [
    "import csv"
   ]
  },
  {
   "cell_type": "code",
   "execution_count": 2,
   "metadata": {},
   "outputs": [],
   "source": [
    "def get_domains(data):\n",
    "    d=[set() for _ in data[0]]\n",
    "    for x in data:\n",
    "        for i,value in enumerate(x):\n",
    "            d[i].add(value)\n",
    "    return list(sorted(x) for x in d)"
   ]
  },
  {
   "cell_type": "code",
   "execution_count": 3,
   "metadata": {},
   "outputs": [],
   "source": [
    "def consistent(hypothesis,sample):\n",
    "    more_general_parts=[]\n",
    "    for x,y in zip(hypothesis,sample):\n",
    "        mg=x==\"?\" or (x!=\"0\" and (x==y or y==\"0\"))\n",
    "        more_general_parts.append(mg)\n",
    "    return all(more_general_parts)"
   ]
  },
  {
   "cell_type": "code",
   "execution_count": 4,
   "metadata": {},
   "outputs": [],
   "source": [
    "def min_generalization(hypothesis,sample):\n",
    "    new_hypothesis=list(hypothesis)\n",
    "    for i,key in enumerate(hypothesis):\n",
    "        if not consistent(hypothesis[i],sample[i]):\n",
    "            new_hypothesis[i]=\"?\" if hypothesis[i]!='0' else sample[i]\n",
    "    return [tuple(new_hypothesis)]"
   ]
  },
  {
   "cell_type": "code",
   "execution_count": null,
   "metadata": {},
   "outputs": [],
   "source": [
    "def min_sepecialization(hypothesis,sample,domain):\n",
    "    hypothesis=list(hypothesis)\n",
    "    result=[]\n",
    "    for i,key in enumeration(hypothesis):\n",
    "        "
   ]
  }
 ],
 "metadata": {
  "kernelspec": {
   "display_name": "Python 3",
   "language": "python",
   "name": "python3"
  },
  "language_info": {
   "codemirror_mode": {
    "name": "ipython",
    "version": 3
   },
   "file_extension": ".py",
   "mimetype": "text/x-python",
   "name": "python",
   "nbconvert_exporter": "python",
   "pygments_lexer": "ipython3",
   "version": "3.6.5"
  }
 },
 "nbformat": 4,
 "nbformat_minor": 2
}
