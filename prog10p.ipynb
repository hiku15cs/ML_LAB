{
 "cells": [
  {
   "cell_type": "code",
   "execution_count": 20,
   "metadata": {},
   "outputs": [],
   "source": [
    "import numpy as np\n",
    "import matplotlib.pyplot as plt"
   ]
  },
  {
   "cell_type": "code",
   "execution_count": 21,
   "metadata": {},
   "outputs": [
    {
     "data": {
      "text/plain": [
       "array([ 3. ,  4. ,  5. ,  6. ,  7. ,  8. ,  9. , 10. , 11. , 12. , 13. ,\n",
       "       14. , 15. , 16. , 17. , 18. , 19. , 20. , 21. , 22. , 23. , 24. ,\n",
       "       25. , 26. , 27. , 28. , 29. , 30. , 31. , 32. ,  3.2,  4.2])"
      ]
     },
     "execution_count": 21,
     "metadata": {},
     "output_type": "execute_result"
    }
   ],
   "source": [
    "tou=0.5\n",
    "x_train=np.array(list(range(3,33))+[3.2,4.2])\n",
    "x_train"
   ]
  },
  {
   "cell_type": "code",
   "execution_count": 22,
   "metadata": {},
   "outputs": [
    {
     "data": {
      "text/plain": [
       "array([[ 3. ],\n",
       "       [ 4. ],\n",
       "       [ 5. ],\n",
       "       [ 6. ],\n",
       "       [ 7. ],\n",
       "       [ 8. ],\n",
       "       [ 9. ],\n",
       "       [10. ],\n",
       "       [11. ],\n",
       "       [12. ],\n",
       "       [13. ],\n",
       "       [14. ],\n",
       "       [15. ],\n",
       "       [16. ],\n",
       "       [17. ],\n",
       "       [18. ],\n",
       "       [19. ],\n",
       "       [20. ],\n",
       "       [21. ],\n",
       "       [22. ],\n",
       "       [23. ],\n",
       "       [24. ],\n",
       "       [25. ],\n",
       "       [26. ],\n",
       "       [27. ],\n",
       "       [28. ],\n",
       "       [29. ],\n",
       "       [30. ],\n",
       "       [31. ],\n",
       "       [32. ],\n",
       "       [ 3.2],\n",
       "       [ 4.2]])"
      ]
     },
     "execution_count": 22,
     "metadata": {},
     "output_type": "execute_result"
    }
   ],
   "source": [
    "x_train=x_train[:,np.newaxis]\n",
    "x_train"
   ]
  },
  {
   "cell_type": "code",
   "execution_count": 23,
   "metadata": {},
   "outputs": [],
   "source": [
    "y_train=np.array([1,1,2,1,2,2,1,3,4,3,4,5,3,6,5,6,7,8,7,8,9,10,9,11,12,11,12,13,14,13,14,15])\n",
    "x_test=np.array([i/10. for i in range(400)])\n",
    "\n",
    "x_test=x_test[:,np.newaxis]\n",
    "y_test=[]"
   ]
  },
  {
   "cell_type": "code",
   "execution_count": 25,
   "metadata": {},
   "outputs": [
    {
     "data": {
      "image/png": "[encoded data removed]",
      "text/plain": [
       "<Figure size 432x288 with 1 Axes>"
      ]
     },
     "metadata": {},
     "output_type": "display_data"
    },
    {
     "data": {
      "text/plain": [
       "array([ 0.        ,  0.13639598,  0.27895326,  0.42783391,  0.58319133,\n",
       "        0.74516818,  0.91389378,  1.08948108,  1.27202303,  1.46158804,\n",
       "        1.65821472,  1.86190531,  2.07261791,  2.29025705,  2.51466251,\n",
       "        2.74559612,  2.98272633,  3.22561059,  3.47367571,  3.72619664,\n",
       "        3.98227456,  4.24081612,  4.50051594,  4.75984578,  5.01705449,\n",
       "        5.27018318,  5.51709988,  5.75555623,  5.98326541,  6.19799514,\n",
       "        6.3976632 ,  6.58041657,  6.74467205,  6.88909787,  7.01252539,\n",
       "        7.11379477,  7.19155686,  7.24406898,  7.26903046,  7.26350278,\n",
       "        7.22394965,  7.1464181 ,  7.02686544,  6.861621  ,  6.6479548 ,\n",
       "        6.38470622,  6.07290366,  5.71628146,  5.32158188,  4.89852704,\n",
       "        4.45937531,  4.01804652,  3.58890341,  3.18538387,  2.81874266,\n",
       "        2.49714761,  2.22527852,  2.00443719,  1.83305182,  1.70739392,\n",
       "        1.62233014,  1.57198417,  1.5502503 ,  1.55115488,  1.5690924 ,\n",
       "        1.59897106,  1.63629669,  1.67721358,  1.71851189,  1.75760685,\n",
       "        1.79249432,  1.82168891,  1.84415196,  1.85921793,  1.86652786,\n",
       "        1.86597812,  1.85769159,  1.84201574,  1.81954833,  1.7911852 ,\n",
       "        1.75817842,  1.72218697,  1.68529942,  1.65000976,  1.61913437,\n",
       "        1.59566923,  1.58259844,  1.58267501,  1.59819991,  1.63082553,\n",
       "        1.68140597,  1.74991159,  1.83541925,  1.9361824 ,  2.04977554,\n",
       "        2.17329608,  2.30359527,  2.43750379,  2.57201872,  2.70442879,\n",
       "        2.8323704 ,  2.95382324,  3.06706659,  3.17062286,  3.2632129 ,\n",
       "        3.34374028,  3.41131207,  3.46529367,  3.50538811,  3.53172509,\n",
       "        3.5449426 ,  3.54624343,  3.53740958,  3.52076181,  3.49905847,\n",
       "        3.47533842,  3.45272344,  3.43420459,  3.42243992,  3.41958798,\n",
       "        3.42719365,  3.44613374,  3.47662084,  3.51825801,  3.57013187,\n",
       "        3.63092845,  3.69905362,  3.77274006,  3.85012559,  3.92929531,\n",
       "        4.00828915,  4.08508687,  4.15758972,  4.22362101,  4.28096506,\n",
       "        4.32745637,  4.36112079,  4.3803598 ,  4.38416018,  4.37230497,\n",
       "        4.3455575 ,  4.30578801,  4.25601266,  4.20031988,  4.14367011,\n",
       "        4.0915732 ,  4.04966802,  4.0232479 ,  4.01678532,  4.03350985,\n",
       "        4.07508556,  4.14142216,  4.23064193,  4.33921126,  4.46223128,\n",
       "        4.59386309,  4.7278444 ,  4.85803882,  4.97895402,  5.08617194,\n",
       "        5.1766511 ,  5.2488815 ,  5.30289128,  5.34011806,  5.3631679 ,\n",
       "        5.3754924 ,  5.38102082,  5.38378766,  5.38759487,  5.39574009,\n",
       "        5.41083052,  5.43468833,  5.46834216,  5.51209118,  5.56562365,\n",
       "        5.62816968,  5.69866652,  5.77591564,  5.85871355,  5.94594447,\n",
       "        6.0366306 ,  6.12994419,  6.22519156,  6.32178224,  6.41919476,\n",
       "        6.51694683,  6.61457134,  6.71159533,  6.80751663,  6.90177403,\n",
       "        6.99371104,  7.08253858,  7.1673066 ,  7.24689669,  7.32004631,\n",
       "        7.38541053,  7.44165999,  7.48760719,  7.52234727,  7.54539677,\n",
       "        7.55681293,  7.55727682,  7.54812556,  7.53132271,  7.50936222,\n",
       "        7.48511067,  7.46160362,  7.4418205 ,  7.42846746,  7.42379504,\n",
       "        7.42947032,  7.4465131 ,  7.47529608,  7.51560198,  7.56672529,\n",
       "        7.62760365,  7.69696109,  7.77344514,  7.85574139,  7.94265395,\n",
       "        8.03314739,  8.12635316,  8.22154993,  8.31812983,  8.41556182,\n",
       "        8.5133595 ,  8.61105516,  8.70817737,  8.80422719,  8.89864883,\n",
       "        8.9907948 ,  9.0798906 ,  9.16500882,  9.24506461,  9.31884339,\n",
       "        9.38506726,  9.44249925,  9.49007802,  9.52706915,  9.5532159 ,\n",
       "        9.56887063,  9.57508797,  9.57366229,  9.5670953 ,  9.558486  ,\n",
       "        9.55134571,  9.54935251,  9.55607124,  9.57467119,  9.60767421,\n",
       "        9.65676035,  9.72264962,  9.80506945,  9.90280895, 10.0138527 ,\n",
       "       10.13557758, 10.26498689, 10.39894946, 10.53441049, 10.6685477 ,\n",
       "       10.79885958, 10.92318844, 11.0396947 , 11.14680728, 11.24317549,\n",
       "       11.32764324, 11.39925679, 11.45730798, 11.50140575, 11.53156321,\n",
       "       11.54828337, 11.55262544, 11.54623378, 11.53131431, 11.5105498 ,\n",
       "       11.48695485, 11.46368368, 11.44381372, 11.430134  , 11.42496605,\n",
       "       11.43003779, 11.44642091, 11.47453191, 11.51418979, 11.56471797,\n",
       "       11.62507515, 11.69399797, 11.77013784, 11.85217618, 11.93890665,\n",
       "       12.02927977, 12.12241243, 12.21757091, 12.31413892, 12.41158135,\n",
       "       12.50941129, 12.60716263, 12.7043659 , 12.80052331, 12.89507888,\n",
       "       12.98738366, 13.07666066, 13.1619785 , 13.24224517, 13.31623204,\n",
       "       13.3826336 , 13.44016176, 13.48766579, 13.52426306, 13.54946229,\n",
       "       13.56326056, 13.56619777, 13.55935674, 13.54430441, 13.52297826,\n",
       "       13.4975316 , 13.47015987, 13.44293312, 13.4176584 , 13.39578769,\n",
       "       13.37837704, 13.36609221, 13.35924965, 13.35787861, 13.36179108,\n",
       "       13.37064955, 13.38402598, 13.40144916, 13.42243996, 13.44653569,\n",
       "       13.47330539, 13.50235817, 13.53334663, 13.5659668 , 13.59995597,\n",
       "       13.63508926, 13.67117574, 13.70805425, 13.74558949, 13.78366832,\n",
       "       13.82219644, 13.86109548, 13.90030044, 13.93975752, 13.97942223,\n",
       "       14.01925786, 14.05923411, 14.09932602, 14.13951303, 14.17977822,\n",
       "       14.22010765, 14.26048989, 14.3009155 , 14.34137675, 14.38186727,\n",
       "       14.42238184, 14.46291616, 14.50346669, 14.54403055, 14.58460534,\n",
       "       14.62518912, 14.66578027, 14.70637748, 14.74697966, 14.78758592,\n",
       "       14.82819554, 14.86880791, 14.90942255, 14.95003903, 14.99065705,\n",
       "       15.03127631, 15.0718966 , 15.11251773, 15.15313956, 15.19376195,\n",
       "       15.23438481, 15.27500805, 15.31563161, 15.35625543, 15.39687945,\n",
       "       15.43750366, 15.478128  , 15.51875246, 15.55937702, 15.60000166,\n",
       "       15.64062636, 15.68125112, 15.72187592, 15.76250075, 15.80312562,\n",
       "       15.84375051, 15.88437542, 15.92500034, 15.96562528, 16.00625023,\n",
       "       16.04687519, 16.08750016, 16.12812513, 16.1687501 , 16.20937509])"
      ]
     },
     "execution_count": 25,
     "metadata": {},
     "output_type": "execute_result"
    }
   ],
   "source": [
    "count=0\n",
    "for r in range(len(x_test)):\n",
    "    try:\n",
    "        wts=np.exp(-np.sum((x_train-x_test[r])**2,axis=1)/(2*tou)**2)\n",
    "        w=np.diag(wts)\n",
    "        factor1=np.linalg.inv(x_train.T.dot(w).dot(x_train))\n",
    "        parameter=factor1.dot(x_train.T).dot(w).dot(y_train)\n",
    "        prediction=x_test[r].dot(parameter)\n",
    "        y_test.append(prediction)\n",
    "        count=count+1\n",
    "    except:\n",
    "        pass\n",
    "y_test=np.array(y_test)\n",
    "\n",
    "plt.plot(x_train.squeeze(),y_train,'o')\n",
    "plt.plot(x_test.squeeze(),y_test,'*')\n",
    "plt.show()\n",
    "y_test"
   ]
  }
 ],
 "metadata": {
  "kernelspec": {
   "display_name": "Python 3",
   "language": "python",
   "name": "python3"
  },
  "language_info": {
   "codemirror_mode": {
    "name": "ipython",
    "version": 3
   },
   "file_extension": ".py",
   "mimetype": "text/x-python",
   "name": "python",
   "nbconvert_exporter": "python",
   "pygments_lexer": "ipython3",
   "version": "3.6.5"
  }
 },
 "nbformat": 4,
 "nbformat_minor": 2
}
