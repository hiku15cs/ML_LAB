{
 "cells": [
  {
   "cell_type": "code",
   "execution_count": 7,
   "metadata": {},
   "outputs": [
    {
     "name": "stdout",
     "output_type": "stream",
     "text": [
      "        0     1       2       3     4       5  6\n",
      "0   sunny  warm  normal  strong  warm    same  1\n",
      "1   sunny  warm    high  strong  warm    same  1\n",
      "2   rainy  cold    high  strong  warm  change  0\n",
      "3   sunny  warm    high  strong  cool  change  1\n",
      "4   sunny  warm  normal  strong  cool    same  1\n",
      "5   sunny  cold  normal  strong  cool    same  1\n",
      "6   sunny  cold  normal    weak  cool  change  0\n",
      "7   rainy  cold    high  strong  cool  change  0\n",
      "8   rainy  cold    high  strong  warm  change  1\n",
      "9   rainy  warm    high  strong  warm    same  1\n",
      "10  rainy  warm  normal  strong  warm  change  0\n",
      "11  sunny  cold    high  strong  cool  change  1\n",
      "12  sunny  cold  normal  strong  cool    same  1\n",
      "13  sunny  warm  normal  strong  cool    same  1\n",
      "14  sunny  warm  normal    weak  cool  change  0\n",
      "        0     1       2       3     4       5  6\n",
      "0   sunny  warm  normal  strong  warm    same  1\n",
      "3   sunny  warm    high  strong  cool  change  1\n",
      "2   rainy  cold    high  strong  warm  change  0\n",
      "6   sunny  cold  normal    weak  cool  change  0\n",
      "7   rainy  cold    high  strong  cool  change  0\n",
      "8   rainy  cold    high  strong  warm  change  1\n",
      "10  rainy  warm  normal  strong  warm  change  0\n",
      "9   rainy  warm    high  strong  warm    same  1\n",
      "        0     1       2       3     4       5  6\n",
      "1   sunny  warm    high  strong  warm    same  1\n",
      "4   sunny  warm  normal  strong  cool    same  1\n",
      "5   sunny  cold  normal  strong  cool    same  1\n",
      "11  sunny  cold    high  strong  cool  change  1\n",
      "12  sunny  cold  normal  strong  cool    same  1\n",
      "13  sunny  warm  normal  strong  cool    same  1\n",
      "14  sunny  warm  normal    weak  cool  change  0\n",
      "0    -\n",
      "1    -\n",
      "2    -\n",
      "3    -\n",
      "4    -\n",
      "5    -\n",
      "dtype: object\n",
      "['-', '-', '-', '-', '-', '-']\n",
      "['sunny', 'warm', 'normal', 'strong', 'warm', 'same']\n",
      "['sunny', 'warm', '?', 'strong', '?', '?']\n",
      "['sunny', 'warm', '?', 'strong', '?', '?']\n",
      "['sunny', 'warm', '?', 'strong', '?', '?']\n",
      "['sunny', 'warm', '?', 'strong', '?', '?']\n",
      "['?', '?', '?', 'strong', '?', '?']\n",
      "['?', '?', '?', 'strong', '?', '?']\n",
      "['?', '?', '?', 'strong', '?', '?']\n"
     ]
    }
   ],
   "source": [
    "import pandas as pd\n",
    "\n",
    "data=pd.read_csv(\"train1.csv\",header=None)\n",
    "print(data)\n",
    "\n",
    "train=data.sample(frac=0.5)\n",
    "print(train)\n",
    "\n",
    "test=data.drop(train.index)\n",
    "print(test)\n",
    "\n",
    "l=len(train.columns)\n",
    "l=l-1 #because we are not taking the last column\n",
    "h=pd.Series(['-']*l)\n",
    "print(h)\n",
    "\n",
    "#r will return rows\n",
    "for (i,r) in train.iterrows():\n",
    "    print(list(h))\n",
    "    if r.iloc[-1] == 1:\n",
    "        for j in range(l):\n",
    "            if h.iloc[j] == r.iloc[j]:\n",
    "                continue\n",
    "            else:\n",
    "                if (h.iloc[j]=='-'):\n",
    "                    h.iloc[j]=r.iloc[j]\n",
    "                else:\n",
    "                    h.iloc[j]='?'\n",
    "\n",
    "print(list(h))\n",
    "\n"
   ]
  },
  {
   "cell_type": "code",
   "execution_count": null,
   "metadata": {},
   "outputs": [],
   "source": []
  }
 ],
 "metadata": {
  "kernelspec": {
   "display_name": "Python 3",
   "language": "python",
   "name": "python3"
  },
  "language_info": {
   "codemirror_mode": {
    "name": "ipython",
    "version": 3
   },
   "file_extension": ".py",
   "mimetype": "text/x-python",
   "name": "python",
   "nbconvert_exporter": "python",
   "pygments_lexer": "ipython3",
   "version": "3.6.5"
  }
 },
 "nbformat": 4,
 "nbformat_minor": 2
}
